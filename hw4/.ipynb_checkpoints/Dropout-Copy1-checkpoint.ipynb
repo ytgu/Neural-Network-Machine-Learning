{
 "cells": [
  {
   "cell_type": "markdown",
   "metadata": {},
   "source": [
    "# Dropout\n",
    "\n",
    "In this notebook, you will implement dropout.  Then we will ask you to train a network with batchnorm and dropout, and acheive over 60% accuracy on CIFAR-10.\n",
    "\n",
    "CS231n has built a solid API for building these modular frameworks and training them, and we will use their very well implemented framework as opposed to \"reinventing the wheel.\"  This includes using their Solver, various utility functions, and their layer structure.  This also includes nndl.fc_net, nndl.layers, and nndl.layer_utils.  As in prior assignments, we thank Serena Yeung & Justin Johnson for permission to use code written for the CS 231n class (cs231n.stanford.edu).  "
   ]
  },
  {
   "cell_type": "code",
   "execution_count": 1,
   "metadata": {},
   "outputs": [],
   "source": [
    "## Import and setups\n",
    "\n",
    "import time\n",
    "import numpy as np\n",
    "import matplotlib.pyplot as plt\n",
    "from nndl.fc_net import *\n",
    "from nndl.layers import *\n",
    "from cs231n.data_utils import get_CIFAR10_data\n",
    "from cs231n.gradient_check import eval_numerical_gradient, eval_numerical_gradient_array\n",
    "from cs231n.solver import Solver\n",
    "\n",
    "%matplotlib inline\n",
    "plt.rcParams['figure.figsize'] = (10.0, 8.0) # set default size of plots\n",
    "plt.rcParams['image.interpolation'] = 'nearest'\n",
    "plt.rcParams['image.cmap'] = 'gray'\n",
    "\n",
    "# for auto-reloading external modules\n",
    "# see http://stackoverflow.com/questions/1907993/autoreload-of-modules-in-ipython\n",
    "%load_ext autoreload\n",
    "%autoreload 2\n",
    "\n",
    "def rel_error(x, y):\n",
    "  \"\"\" returns relative error \"\"\"\n",
    "  return np.max(np.abs(x - y) / (np.maximum(1e-8, np.abs(x) + np.abs(y))))"
   ]
  },
  {
   "cell_type": "code",
   "execution_count": 2,
   "metadata": {},
   "outputs": [
    {
     "name": "stdout",
     "output_type": "stream",
     "text": [
      "X_train: (49000, 3, 32, 32) \n",
      "y_train: (49000,) \n",
      "X_val: (1000, 3, 32, 32) \n",
      "y_val: (1000,) \n",
      "X_test: (1000, 3, 32, 32) \n",
      "y_test: (1000,) \n"
     ]
    }
   ],
   "source": [
    "# Load the (preprocessed) CIFAR10 data.\n",
    "\n",
    "data = get_CIFAR10_data()\n",
    "for k in data.keys():\n",
    "  print('{}: {} '.format(k, data[k].shape))"
   ]
  },
  {
   "cell_type": "markdown",
   "metadata": {},
   "source": [
    "## Dropout forward pass\n",
    "\n",
    "Implement the training and test time dropout forward pass, `dropout_forward`, in `nndl/layers.py`. After that, test your implementation by running the following cell."
   ]
  },
  {
   "cell_type": "code",
   "execution_count": 3,
   "metadata": {},
   "outputs": [
    {
     "name": "stdout",
     "output_type": "stream",
     "text": [
      "Running tests with p =  0.3\n",
      "Mean of input:  10.004191143254177\n",
      "Mean of train-time output:  9.98887720366118\n",
      "Mean of test-time output:  10.004191143254177\n",
      "Fraction of train-time output set to zero:  0.301172\n",
      "Fraction of test-time output set to zero:  0.0\n",
      "Running tests with p =  0.6\n",
      "Mean of input:  10.004191143254177\n",
      "Mean of train-time output:  9.986801289740422\n",
      "Mean of test-time output:  10.004191143254177\n",
      "Fraction of train-time output set to zero:  0.600704\n",
      "Fraction of test-time output set to zero:  0.0\n",
      "Running tests with p =  0.75\n",
      "Mean of input:  10.004191143254177\n",
      "Mean of train-time output:  10.06490317141754\n",
      "Mean of test-time output:  10.004191143254177\n",
      "Fraction of train-time output set to zero:  0.748684\n",
      "Fraction of test-time output set to zero:  0.0\n"
     ]
    }
   ],
   "source": [
    "x = np.random.randn(500, 500) + 10\n",
    "\n",
    "for p in [0.3, 0.6, 0.75]:\n",
    "  out, _ = dropout_forward(x, {'mode': 'train', 'p': p})\n",
    "  out_test, _ = dropout_forward(x, {'mode': 'test', 'p': p})\n",
    "\n",
    "  print('Running tests with p = ', p)\n",
    "  print('Mean of input: ', x.mean())\n",
    "  print('Mean of train-time output: ', out.mean())\n",
    "  print('Mean of test-time output: ', out_test.mean())\n",
    "  print('Fraction of train-time output set to zero: ', (out == 0).mean())\n",
    "  print('Fraction of test-time output set to zero: ', (out_test == 0).mean())"
   ]
  },
  {
   "cell_type": "markdown",
   "metadata": {},
   "source": [
    "## Dropout backward pass\n",
    "\n",
    "Implement the backward pass, `dropout_backward`, in `nndl/layers.py`.  After that, test your gradients by running the following cell:"
   ]
  },
  {
   "cell_type": "code",
   "execution_count": 4,
   "metadata": {},
   "outputs": [
    {
     "name": "stdout",
     "output_type": "stream",
     "text": [
      "dx relative error:  1.892904310008792e-11\n"
     ]
    }
   ],
   "source": [
    "x = np.random.randn(10, 10) + 10\n",
    "dout = np.random.randn(*x.shape)\n",
    "\n",
    "dropout_param = {'mode': 'train', 'p': 0.8, 'seed': 123}\n",
    "out, cache = dropout_forward(x, dropout_param)\n",
    "dx = dropout_backward(dout, cache)\n",
    "dx_num = eval_numerical_gradient_array(lambda xx: dropout_forward(xx, dropout_param)[0], x, dout)\n",
    "\n",
    "print('dx relative error: ', rel_error(dx, dx_num))"
   ]
  },
  {
   "cell_type": "markdown",
   "metadata": {},
   "source": [
    "## Implement a fully connected neural network with dropout layers\n",
    "\n",
    "Modify the `FullyConnectedNet()` class in `nndl/fc_net.py` to incorporate dropout.  A dropout layer should be incorporated after every ReLU layer.  Concretely, there shouldn't be a dropout at the output layer since there is no ReLU at the output layer. You will need to modify the class in the following areas:\n",
    "\n",
    "(1) In the forward pass, you will need to incorporate a dropout layer after every relu layer.\n",
    "\n",
    "(2) In the backward pass, you will need to incorporate a dropout backward pass layer.\n",
    "\n",
    "Check your implementation by running the following code.  Our W1 gradient relative error is on the order of 1e-6 (the largest of all the relative errors)."
   ]
  },
  {
   "cell_type": "code",
   "execution_count": 5,
   "metadata": {},
   "outputs": [
    {
     "name": "stdout",
     "output_type": "stream",
     "text": [
      "Running check with dropout =  0\n",
      "Initial loss:  2.3051948273987857\n",
      "W1 relative error: 2.5272575351926774e-07\n",
      "W2 relative error: 1.5034484932141387e-05\n",
      "W3 relative error: 2.753446846744471e-07\n",
      "b1 relative error: 2.9369574464090924e-06\n",
      "b2 relative error: 5.051339805546953e-08\n",
      "b3 relative error: 1.1740467838205477e-10\n",
      "\n",
      "\n",
      "Running check with dropout =  0.25\n",
      "Initial loss:  2.3052077546540826\n",
      "W1 relative error: 2.613846946708284e-07\n",
      "W2 relative error: 5.022056555416569e-07\n",
      "W3 relative error: 4.456316128508226e-08\n",
      "b1 relative error: 7.397116826551437e-08\n",
      "b2 relative error: 7.151679404650099e-10\n",
      "b3 relative error: 1.003974732116764e-10\n",
      "\n",
      "\n",
      "Running check with dropout =  0.5\n",
      "Initial loss:  2.3035667586595423\n",
      "W1 relative error: 1.1401257466398776e-06\n",
      "W2 relative error: 1.847669552590918e-07\n",
      "W3 relative error: 6.5966196982302395e-09\n",
      "b1 relative error: 7.716396145006076e-08\n",
      "b2 relative error: 1.1975911504312007e-09\n",
      "b3 relative error: 1.4558471033827801e-10\n",
      "\n",
      "\n"
     ]
    }
   ],
   "source": [
    "N, D, H1, H2, C = 2, 15, 20, 30, 10\n",
    "X = np.random.randn(N, D)\n",
    "y = np.random.randint(C, size=(N,))\n",
    "\n",
    "for dropout in [0, 0.25, 0.5]:\n",
    "  print('Running check with dropout = ', dropout)\n",
    "  model = FullyConnectedNet([H1, H2], input_dim=D, num_classes=C,\n",
    "                            weight_scale=5e-2, dtype=np.float64,\n",
    "                            dropout=dropout, seed=123)\n",
    "\n",
    "  loss, grads = model.loss(X, y)\n",
    "  print('Initial loss: ', loss)\n",
    "\n",
    "  for name in sorted(grads):\n",
    "    f = lambda _: model.loss(X, y)[0]\n",
    "    grad_num = eval_numerical_gradient(f, model.params[name], verbose=False, h=1e-5)\n",
    "    print('{} relative error: {}'.format(name, rel_error(grad_num, grads[name])))\n",
    "  print('\\n')"
   ]
  },
  {
   "cell_type": "markdown",
   "metadata": {},
   "source": [
    "## Dropout as a regularizer\n",
    "\n",
    "In class, we claimed that dropout acts as a regularizer by effectively bagging.  To check this, we will train two small networks, one with dropout and one without dropout.  "
   ]
  },
  {
   "cell_type": "code",
   "execution_count": 6,
   "metadata": {},
   "outputs": [
    {
     "name": "stdout",
     "output_type": "stream",
     "text": [
      "(Iteration 1 / 125) loss: 2.300804\n",
      "(Epoch 0 / 25) train acc: 0.224000; val_acc: 0.167000\n",
      "(Epoch 1 / 25) train acc: 0.182000; val_acc: 0.146000\n",
      "(Epoch 2 / 25) train acc: 0.258000; val_acc: 0.190000\n",
      "(Epoch 3 / 25) train acc: 0.324000; val_acc: 0.260000\n",
      "(Epoch 4 / 25) train acc: 0.372000; val_acc: 0.272000\n",
      "(Epoch 5 / 25) train acc: 0.428000; val_acc: 0.299000\n",
      "(Epoch 6 / 25) train acc: 0.450000; val_acc: 0.320000\n",
      "(Epoch 7 / 25) train acc: 0.474000; val_acc: 0.286000\n",
      "(Epoch 8 / 25) train acc: 0.540000; val_acc: 0.318000\n",
      "(Epoch 9 / 25) train acc: 0.558000; val_acc: 0.319000\n",
      "(Epoch 10 / 25) train acc: 0.614000; val_acc: 0.320000\n",
      "(Epoch 11 / 25) train acc: 0.628000; val_acc: 0.265000\n",
      "(Epoch 12 / 25) train acc: 0.722000; val_acc: 0.333000\n",
      "(Epoch 13 / 25) train acc: 0.744000; val_acc: 0.316000\n",
      "(Epoch 14 / 25) train acc: 0.768000; val_acc: 0.308000\n",
      "(Epoch 15 / 25) train acc: 0.802000; val_acc: 0.297000\n",
      "(Epoch 16 / 25) train acc: 0.858000; val_acc: 0.324000\n",
      "(Epoch 17 / 25) train acc: 0.876000; val_acc: 0.316000\n",
      "(Epoch 18 / 25) train acc: 0.906000; val_acc: 0.313000\n",
      "(Epoch 19 / 25) train acc: 0.910000; val_acc: 0.293000\n",
      "(Epoch 20 / 25) train acc: 0.942000; val_acc: 0.305000\n",
      "(Iteration 101 / 125) loss: 0.189855\n",
      "(Epoch 21 / 25) train acc: 0.966000; val_acc: 0.300000\n",
      "(Epoch 22 / 25) train acc: 0.976000; val_acc: 0.303000\n",
      "(Epoch 23 / 25) train acc: 0.972000; val_acc: 0.285000\n",
      "(Epoch 24 / 25) train acc: 0.990000; val_acc: 0.287000\n",
      "(Epoch 25 / 25) train acc: 0.990000; val_acc: 0.304000\n",
      "(Iteration 1 / 125) loss: 2.298716\n",
      "(Epoch 0 / 25) train acc: 0.132000; val_acc: 0.149000\n",
      "(Epoch 1 / 25) train acc: 0.130000; val_acc: 0.129000\n",
      "(Epoch 2 / 25) train acc: 0.204000; val_acc: 0.201000\n",
      "(Epoch 3 / 25) train acc: 0.218000; val_acc: 0.197000\n",
      "(Epoch 4 / 25) train acc: 0.224000; val_acc: 0.183000\n",
      "(Epoch 5 / 25) train acc: 0.262000; val_acc: 0.231000\n",
      "(Epoch 6 / 25) train acc: 0.260000; val_acc: 0.211000\n",
      "(Epoch 7 / 25) train acc: 0.266000; val_acc: 0.206000\n",
      "(Epoch 8 / 25) train acc: 0.286000; val_acc: 0.238000\n",
      "(Epoch 9 / 25) train acc: 0.308000; val_acc: 0.254000\n",
      "(Epoch 10 / 25) train acc: 0.308000; val_acc: 0.261000\n",
      "(Epoch 11 / 25) train acc: 0.318000; val_acc: 0.264000\n",
      "(Epoch 12 / 25) train acc: 0.348000; val_acc: 0.277000\n",
      "(Epoch 13 / 25) train acc: 0.334000; val_acc: 0.258000\n",
      "(Epoch 14 / 25) train acc: 0.342000; val_acc: 0.274000\n",
      "(Epoch 15 / 25) train acc: 0.374000; val_acc: 0.278000\n",
      "(Epoch 16 / 25) train acc: 0.394000; val_acc: 0.281000\n",
      "(Epoch 17 / 25) train acc: 0.394000; val_acc: 0.289000\n",
      "(Epoch 18 / 25) train acc: 0.382000; val_acc: 0.275000\n",
      "(Epoch 19 / 25) train acc: 0.378000; val_acc: 0.271000\n",
      "(Epoch 20 / 25) train acc: 0.376000; val_acc: 0.279000\n",
      "(Iteration 101 / 125) loss: 1.882655\n",
      "(Epoch 21 / 25) train acc: 0.424000; val_acc: 0.281000\n",
      "(Epoch 22 / 25) train acc: 0.430000; val_acc: 0.286000\n",
      "(Epoch 23 / 25) train acc: 0.458000; val_acc: 0.296000\n",
      "(Epoch 24 / 25) train acc: 0.478000; val_acc: 0.304000\n",
      "(Epoch 25 / 25) train acc: 0.508000; val_acc: 0.308000\n"
     ]
    }
   ],
   "source": [
    "# Train two identical nets, one with dropout and one without\n",
    "\n",
    "num_train = 500\n",
    "small_data = {\n",
    "  'X_train': data['X_train'][:num_train],\n",
    "  'y_train': data['y_train'][:num_train],\n",
    "  'X_val': data['X_val'],\n",
    "  'y_val': data['y_val'],\n",
    "}\n",
    "\n",
    "solvers = {}\n",
    "dropout_choices = [0, 0.6]\n",
    "for dropout in dropout_choices:\n",
    "  model = FullyConnectedNet([100, 100, 100], dropout=dropout)\n",
    "\n",
    "  solver = Solver(model, small_data,\n",
    "                  num_epochs=25, batch_size=100,\n",
    "                  update_rule='adam',\n",
    "                  optim_config={\n",
    "                    'learning_rate': 5e-4,\n",
    "                  },\n",
    "                  verbose=True, print_every=100)\n",
    "  solver.train()\n",
    "  solvers[dropout] = solver"
   ]
  },
  {
   "cell_type": "code",
   "execution_count": 7,
   "metadata": {},
   "outputs": [
    {
     "data": {
      "image/png": "[encoded data removed]",
      "text/plain": [
       "<matplotlib.figure.Figure at 0x108d26f60>"
      ]
     },
     "metadata": {},
     "output_type": "display_data"
    }
   ],
   "source": [
    "# Plot train and validation accuracies of the two models\n",
    "\n",
    "train_accs = []\n",
    "val_accs = []\n",
    "for dropout in dropout_choices:\n",
    "  solver = solvers[dropout]\n",
    "  train_accs.append(solver.train_acc_history[-1])\n",
    "  val_accs.append(solver.val_acc_history[-1])\n",
    "\n",
    "plt.subplot(3, 1, 1)\n",
    "for dropout in dropout_choices:\n",
    "  plt.plot(solvers[dropout].train_acc_history, 'o', label='%.2f dropout' % dropout)\n",
    "plt.title('Train accuracy')\n",
    "plt.xlabel('Epoch')\n",
    "plt.ylabel('Accuracy')\n",
    "plt.legend(ncol=2, loc='lower right')\n",
    "  \n",
    "plt.subplot(3, 1, 2)\n",
    "for dropout in dropout_choices:\n",
    "  plt.plot(solvers[dropout].val_acc_history, 'o', label='%.2f dropout' % dropout)\n",
    "plt.title('Val accuracy')\n",
    "plt.xlabel('Epoch')\n",
    "plt.ylabel('Accuracy')\n",
    "plt.legend(ncol=2, loc='lower right')\n",
    "\n",
    "plt.gcf().set_size_inches(15, 15)\n",
    "plt.show()"
   ]
  },
  {
   "cell_type": "markdown",
   "metadata": {},
   "source": [
    "## Question\n",
    "\n",
    "Based off the results of this experiment, is dropout performing regularization?  Explain your answer."
   ]
  },
  {
   "cell_type": "markdown",
   "metadata": {},
   "source": [
    "## Answer:\n",
    "Yes, dropout is performing regularization. We can see the training accuracy using dropout is worse than the baseline, but the validation acurracy tends to be better than the baseline. This indicades that dropout helps the model prevent from overfitting on the training data too much, so that it can perform better dealing with validation and testing data."
   ]
  },
  {
   "cell_type": "markdown",
   "metadata": {},
   "source": [
    "## Final part of the assignment\n",
    "\n",
    "Get over 60% validation accuracy on CIFAR-10 by using the layers you have implemented.  You will be graded according to the following equation:\n",
    "\n",
    "min(floor((X - 32%)) / 28%, 1) \n",
    "where if you get 60% or higher validation accuracy, you get full points."
   ]
  },
  {
   "cell_type": "code",
   "execution_count": 26,
   "metadata": {
    "scrolled": false
   },
   "outputs": [
    {
     "name": "stdout",
     "output_type": "stream",
     "text": [
      "(Iteration 1 / 6125) loss: 2.381184\n",
      "(Epoch 0 / 25) train acc: 0.219000; val_acc: 0.228000\n",
      "(Iteration 51 / 6125) loss: 1.708708\n",
      "(Iteration 101 / 6125) loss: 1.623907\n",
      "(Iteration 151 / 6125) loss: 1.650677\n",
      "(Iteration 201 / 6125) loss: 1.497628\n",
      "(Epoch 1 / 25) train acc: 0.492000; val_acc: 0.480000\n",
      "(Iteration 251 / 6125) loss: 1.572257\n",
      "(Iteration 301 / 6125) loss: 1.377289\n",
      "(Iteration 351 / 6125) loss: 1.532607\n",
      "(Iteration 401 / 6125) loss: 1.556728\n",
      "(Iteration 451 / 6125) loss: 1.395714\n",
      "(Epoch 2 / 25) train acc: 0.517000; val_acc: 0.507000\n",
      "(Iteration 501 / 6125) loss: 1.402267\n",
      "(Iteration 551 / 6125) loss: 1.245409\n",
      "(Iteration 601 / 6125) loss: 1.340520\n",
      "(Iteration 651 / 6125) loss: 1.470625\n",
      "(Iteration 701 / 6125) loss: 1.379365\n",
      "(Epoch 3 / 25) train acc: 0.585000; val_acc: 0.525000\n",
      "(Iteration 751 / 6125) loss: 1.361617\n",
      "(Iteration 801 / 6125) loss: 1.321311\n",
      "(Iteration 851 / 6125) loss: 1.405431\n",
      "(Iteration 901 / 6125) loss: 1.293095\n",
      "(Iteration 951 / 6125) loss: 1.335811\n",
      "(Epoch 4 / 25) train acc: 0.575000; val_acc: 0.522000\n",
      "(Iteration 1001 / 6125) loss: 1.277405\n",
      "(Iteration 1051 / 6125) loss: 1.301622\n",
      "(Iteration 1101 / 6125) loss: 1.309154\n",
      "(Iteration 1151 / 6125) loss: 1.340698\n",
      "(Iteration 1201 / 6125) loss: 1.253644\n",
      "(Epoch 5 / 25) train acc: 0.578000; val_acc: 0.536000\n",
      "(Iteration 1251 / 6125) loss: 1.279061\n",
      "(Iteration 1301 / 6125) loss: 1.221857\n",
      "(Iteration 1351 / 6125) loss: 1.213097\n",
      "(Iteration 1401 / 6125) loss: 1.096068\n",
      "(Iteration 1451 / 6125) loss: 1.202803\n",
      "(Epoch 6 / 25) train acc: 0.600000; val_acc: 0.540000\n",
      "(Iteration 1501 / 6125) loss: 1.154711\n",
      "(Iteration 1551 / 6125) loss: 1.131066\n",
      "(Iteration 1601 / 6125) loss: 1.104252\n",
      "(Iteration 1651 / 6125) loss: 1.083951\n",
      "(Iteration 1701 / 6125) loss: 1.025303\n",
      "(Epoch 7 / 25) train acc: 0.639000; val_acc: 0.554000\n",
      "(Iteration 1751 / 6125) loss: 1.127396\n",
      "(Iteration 1801 / 6125) loss: 1.127396\n",
      "(Iteration 1851 / 6125) loss: 1.211984\n",
      "(Iteration 1901 / 6125) loss: 1.304971\n",
      "(Iteration 1951 / 6125) loss: 1.157567\n",
      "(Epoch 8 / 25) train acc: 0.651000; val_acc: 0.558000\n",
      "(Iteration 2001 / 6125) loss: 1.053511\n",
      "(Iteration 2051 / 6125) loss: 1.086199\n",
      "(Iteration 2101 / 6125) loss: 1.227627\n",
      "(Iteration 2151 / 6125) loss: 1.094819\n",
      "(Iteration 2201 / 6125) loss: 1.075488\n",
      "(Epoch 9 / 25) train acc: 0.694000; val_acc: 0.561000\n",
      "(Iteration 2251 / 6125) loss: 0.992404\n",
      "(Iteration 2301 / 6125) loss: 1.248042\n",
      "(Iteration 2351 / 6125) loss: 1.001299\n",
      "(Iteration 2401 / 6125) loss: 1.021442\n",
      "(Epoch 10 / 25) train acc: 0.705000; val_acc: 0.560000\n",
      "(Iteration 2451 / 6125) loss: 1.185229\n",
      "(Iteration 2501 / 6125) loss: 1.056981\n",
      "(Iteration 2551 / 6125) loss: 0.994993\n",
      "(Iteration 2601 / 6125) loss: 1.031685\n",
      "(Iteration 2651 / 6125) loss: 1.057631\n",
      "(Epoch 11 / 25) train acc: 0.699000; val_acc: 0.569000\n",
      "(Iteration 2701 / 6125) loss: 1.131701\n",
      "(Iteration 2751 / 6125) loss: 1.123027\n",
      "(Iteration 2801 / 6125) loss: 0.950447\n",
      "(Iteration 2851 / 6125) loss: 0.973956\n",
      "(Iteration 2901 / 6125) loss: 0.994361\n",
      "(Epoch 12 / 25) train acc: 0.709000; val_acc: 0.573000\n",
      "(Iteration 2951 / 6125) loss: 0.995953\n",
      "(Iteration 3001 / 6125) loss: 1.007932\n",
      "(Iteration 3051 / 6125) loss: 1.043066\n",
      "(Iteration 3101 / 6125) loss: 0.947584\n",
      "(Iteration 3151 / 6125) loss: 1.023331\n",
      "(Epoch 13 / 25) train acc: 0.702000; val_acc: 0.584000\n",
      "(Iteration 3201 / 6125) loss: 1.016730\n",
      "(Iteration 3251 / 6125) loss: 0.832541\n",
      "(Iteration 3301 / 6125) loss: 0.992213\n",
      "(Iteration 3351 / 6125) loss: 1.045732\n",
      "(Iteration 3401 / 6125) loss: 1.114652\n",
      "(Epoch 14 / 25) train acc: 0.731000; val_acc: 0.571000\n",
      "(Iteration 3451 / 6125) loss: 1.008903\n",
      "(Iteration 3501 / 6125) loss: 1.023845\n",
      "(Iteration 3551 / 6125) loss: 0.949860\n",
      "(Iteration 3601 / 6125) loss: 0.961998\n",
      "(Iteration 3651 / 6125) loss: 0.898842\n",
      "(Epoch 15 / 25) train acc: 0.750000; val_acc: 0.579000\n",
      "(Iteration 3701 / 6125) loss: 1.006869\n",
      "(Iteration 3751 / 6125) loss: 0.887430\n",
      "(Iteration 3801 / 6125) loss: 0.968954\n",
      "(Iteration 3851 / 6125) loss: 0.910529\n",
      "(Iteration 3901 / 6125) loss: 0.937508\n",
      "(Epoch 16 / 25) train acc: 0.708000; val_acc: 0.585000\n",
      "(Iteration 3951 / 6125) loss: 0.844238\n",
      "(Iteration 4001 / 6125) loss: 0.877782\n",
      "(Iteration 4051 / 6125) loss: 0.940373\n",
      "(Iteration 4101 / 6125) loss: 0.990808\n",
      "(Iteration 4151 / 6125) loss: 0.891916\n",
      "(Epoch 17 / 25) train acc: 0.740000; val_acc: 0.583000\n",
      "(Iteration 4201 / 6125) loss: 0.723826\n",
      "(Iteration 4251 / 6125) loss: 0.872702\n",
      "(Iteration 4301 / 6125) loss: 0.752197\n",
      "(Iteration 4351 / 6125) loss: 0.760943\n",
      "(Iteration 4401 / 6125) loss: 0.932476\n",
      "(Epoch 18 / 25) train acc: 0.747000; val_acc: 0.586000\n",
      "(Iteration 4451 / 6125) loss: 0.834788\n",
      "(Iteration 4501 / 6125) loss: 0.861537\n",
      "(Iteration 4551 / 6125) loss: 0.942395\n",
      "(Iteration 4601 / 6125) loss: 0.902116\n",
      "(Iteration 4651 / 6125) loss: 0.821951\n",
      "(Epoch 19 / 25) train acc: 0.744000; val_acc: 0.583000\n",
      "(Iteration 4701 / 6125) loss: 0.805693\n",
      "(Iteration 4751 / 6125) loss: 0.813939\n",
      "(Iteration 4801 / 6125) loss: 0.859743\n",
      "(Iteration 4851 / 6125) loss: 0.843945\n",
      "(Epoch 20 / 25) train acc: 0.757000; val_acc: 0.580000\n",
      "(Iteration 4901 / 6125) loss: 0.861695\n",
      "(Iteration 4951 / 6125) loss: 0.845958\n",
      "(Iteration 5001 / 6125) loss: 0.782089\n",
      "(Iteration 5051 / 6125) loss: 0.889719\n",
      "(Iteration 5101 / 6125) loss: 0.938346\n",
      "(Epoch 21 / 25) train acc: 0.783000; val_acc: 0.579000\n",
      "(Iteration 5151 / 6125) loss: 0.700862\n",
      "(Iteration 5201 / 6125) loss: 0.870562\n",
      "(Iteration 5251 / 6125) loss: 0.764659\n",
      "(Iteration 5301 / 6125) loss: 0.886984\n",
      "(Iteration 5351 / 6125) loss: 0.689910\n",
      "(Epoch 22 / 25) train acc: 0.764000; val_acc: 0.586000\n",
      "(Iteration 5401 / 6125) loss: 0.873757\n",
      "(Iteration 5451 / 6125) loss: 0.908748\n",
      "(Iteration 5501 / 6125) loss: 0.831069\n",
      "(Iteration 5551 / 6125) loss: 0.734094\n",
      "(Iteration 5601 / 6125) loss: 0.857332\n",
      "(Epoch 23 / 25) train acc: 0.779000; val_acc: 0.582000\n",
      "(Iteration 5651 / 6125) loss: 0.854878\n",
      "(Iteration 5701 / 6125) loss: 0.924496\n",
      "(Iteration 5751 / 6125) loss: 0.711592\n",
      "(Iteration 5801 / 6125) loss: 0.711577\n",
      "(Iteration 5851 / 6125) loss: 0.781323\n",
      "(Epoch 24 / 25) train acc: 0.798000; val_acc: 0.581000\n",
      "(Iteration 5901 / 6125) loss: 0.795359\n",
      "(Iteration 5951 / 6125) loss: 0.701179\n",
      "(Iteration 6001 / 6125) loss: 0.754843\n",
      "(Iteration 6051 / 6125) loss: 0.772603\n",
      "(Iteration 6101 / 6125) loss: 0.792820\n",
      "(Epoch 25 / 25) train acc: 0.781000; val_acc: 0.585000\n"
     ]
    },
    {
     "data": {
      "image/png": "[encoded data removed]",
      "text/plain": [
       "<matplotlib.figure.Figure at 0x10d3d87f0>"
      ]
     },
     "metadata": {},
     "output_type": "display_data"
    }
   ],
   "source": [
    "# ================================================================ #\n",
    "# YOUR CODE HERE:\n",
    "#   Implement a FC-net that achieves at least 60% validation accuracy\n",
    "#   on CIFAR-10.\n",
    "# ================================================================ #\n",
    "hidden_dims = [500, 500, 500]\n",
    "final_data = {\n",
    "  'X_train': data['X_train'],\n",
    "  'y_train': data['y_train'],\n",
    "  'X_val': data['X_val'],\n",
    "  'y_val': data['y_val'],\n",
    "}\n",
    "\n",
    "model = FullyConnectedNet(hidden_dims, weight_scale=2e-2, use_batchnorm=True, dropout=0.3)\n",
    "\n",
    "solver = Solver(model, final_data,\n",
    "                num_epochs=25, batch_size=200,\n",
    "                update_rule='adam',\n",
    "                optim_config={\n",
    "                  'learning_rate': 1e-3,\n",
    "                },\n",
    "                lr_decay=0.9,\n",
    "                verbose=True, print_every=50)\n",
    "solver.train()\n",
    "\n",
    "plt.figure()\n",
    "plt.plot(solver.val_acc_history, '-o')\n",
    "plt.title('Validation accuracy')\n",
    "plt.xlabel('Epoch')\n",
    "plt.show()\n",
    "\n",
    "# ================================================================ #\n",
    "# END YOUR CODE HERE\n",
    "# ================================================================ #\n"
   ]
  },
  {
   "cell_type": "code",
   "execution_count": null,
   "metadata": {},
   "outputs": [],
   "source": []
  }
 ],
 "metadata": {
  "kernelspec": {
   "display_name": "Python 3",
   "language": "python",
   "name": "python3"
  },
  "language_info": {
   "codemirror_mode": {
    "name": "ipython",
    "version": 3
   },
   "file_extension": ".py",
   "mimetype": "text/x-python",
   "name": "python",
   "nbconvert_exporter": "python",
   "pygments_lexer": "ipython3",
   "version": "3.6.4"
  }
 },
 "nbformat": 4,
 "nbformat_minor": 2
}
