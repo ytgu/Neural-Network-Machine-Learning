{
 "cells": [
  {
   "cell_type": "markdown",
   "metadata": {},
   "source": [
    "# Convolutional neural networks\n",
    "\n",
    "In this notebook, we'll put together our convolutional layers to implement a 3-layer CNN.  Then, we'll ask you to implement a CNN that can achieve > 65% validation error on CIFAR-10.\n",
    "\n",
    "CS231n has built a solid API for building these modular frameworks and training them, and we will use their very well implemented framework as opposed to \"reinventing the wheel.\"  This includes using their Solver, various utility functions, their layer structure, and their implementation of fast CNN layers.  This also includes nndl.fc_net, nndl.layers, and nndl.layer_utils.  As in prior assignments, we thank Serena Yeung & Justin Johnson for permission to use code written for the CS 231n class (cs231n.stanford.edu).  \n",
    "\n",
    "If you have not completed the Spatial BatchNorm Notebook, please see the following description from that notebook:\n",
    "\n",
    "Please copy and paste your prior implemented code from HW #4 to start this assignment.  If you did not correctly implement the layers in HW #4, you may collaborate with a classmate to use their layer implementations from HW #4.  You may also visit TA or Prof OH to correct your implementation.  \n",
    "\n",
    "You'll want to copy and paste from HW #4:\n",
    "    - layers.py for your FC network layers, as well as batchnorm and dropout.\n",
    "    - layer_utils.py for your combined FC network layers.\n",
    "    - optim.py for your optimizers.\n",
    "\n",
    "Be sure to place these in the `nndl/` directory so they're imported correctly.  Note, as announced in class, we will not be releasing our solutions."
   ]
  },
  {
   "cell_type": "code",
   "execution_count": 1,
   "metadata": {
    "collapsed": true
   },
   "outputs": [],
   "source": [
    "# As usual, a bit of setup\n",
    "\n",
    "import numpy as np\n",
    "import matplotlib.pyplot as plt\n",
    "from nndl.cnn import *\n",
    "from cs231n.data_utils import get_CIFAR10_data\n",
    "from cs231n.gradient_check import eval_numerical_gradient_array, eval_numerical_gradient\n",
    "from nndl.layers import *\n",
    "from nndl.conv_layers import *\n",
    "from cs231n.fast_layers import *\n",
    "from cs231n.solver import Solver\n",
    "\n",
    "%matplotlib inline\n",
    "plt.rcParams['figure.figsize'] = (10.0, 8.0) # set default size of plots\n",
    "plt.rcParams['image.interpolation'] = 'nearest'\n",
    "plt.rcParams['image.cmap'] = 'gray'\n",
    "\n",
    "# for auto-reloading external modules\n",
    "# see http://stackoverflow.com/questions/1907993/autoreload-of-modules-in-ipython\n",
    "%load_ext autoreload\n",
    "%autoreload 2\n",
    "\n",
    "def rel_error(x, y):\n",
    "  \"\"\" returns relative error \"\"\"\n",
    "  return np.max(np.abs(x - y) / (np.maximum(1e-8, np.abs(x) + np.abs(y))))"
   ]
  },
  {
   "cell_type": "code",
   "execution_count": 2,
   "metadata": {},
   "outputs": [
    {
     "name": "stdout",
     "output_type": "stream",
     "text": [
      "X_train: (49000, 3, 32, 32) \n",
      "y_train: (49000,) \n",
      "X_val: (1000, 3, 32, 32) \n",
      "y_val: (1000,) \n",
      "X_test: (1000, 3, 32, 32) \n",
      "y_test: (1000,) \n"
     ]
    }
   ],
   "source": [
    "# Load the (preprocessed) CIFAR10 data.\n",
    "\n",
    "data = get_CIFAR10_data()\n",
    "for k in data.keys():\n",
    "  print('{}: {} '.format(k, data[k].shape))"
   ]
  },
  {
   "cell_type": "markdown",
   "metadata": {},
   "source": [
    "## Three layer CNN\n",
    "\n",
    "In this notebook, you will implement a three layer CNN.  The `ThreeLayerConvNet` class is in `nndl/cnn.py`.  You'll need to modify that code for this section, including the initialization, as well as the calculation of the loss and gradients.  You should be able to use the building blocks you have either earlier coded or that we have provided.  Be sure to use the fast layers.\n",
    "\n",
    "The architecture of this CNN will be:\n",
    "\n",
    "conv - relu - 2x2 max pool - affine - relu - affine - softmax\n",
    "\n",
    "We won't use batchnorm yet.  You've also done enough of these to know how to debug; use the cells below.\n",
    "\n",
    "Note: As we are implementing several layers CNN networks. The gradient error can be expected for the `eval_numerical_gradient()` function. If your `W1 max relative error` and `W2 max relative error` are around or below 0.01, they should be acceptable. Other errors should be less than 1e-5. "
   ]
  },
  {
   "cell_type": "code",
   "execution_count": 3,
   "metadata": {},
   "outputs": [
    {
     "name": "stdout",
     "output_type": "stream",
     "text": [
      "W1 max relative error: 0.00012143593438798199\n",
      "W2 max relative error: 0.009759342082905758\n",
      "W3 max relative error: 5.6999447680197e-05\n",
      "b1 max relative error: 2.594653263671391e-06\n",
      "b2 max relative error: 4.598370316205818e-07\n",
      "b3 max relative error: 1.0530440296580823e-09\n"
     ]
    }
   ],
   "source": [
    "num_inputs = 2\n",
    "input_dim = (3, 16, 16)\n",
    "reg = 0.0\n",
    "num_classes = 10\n",
    "X = np.random.randn(num_inputs, *input_dim)\n",
    "y = np.random.randint(num_classes, size=num_inputs)\n",
    "\n",
    "model = ThreeLayerConvNet(num_filters=3, filter_size=3,\n",
    "                          input_dim=input_dim, hidden_dim=7,\n",
    "                          dtype=np.float64)\n",
    "loss, grads = model.loss(X, y)\n",
    "for param_name in sorted(grads):\n",
    "    f = lambda _: model.loss(X, y)[0]\n",
    "    param_grad_num = eval_numerical_gradient(f, model.params[param_name], verbose=False, h=1e-6)\n",
    "    e = rel_error(param_grad_num, grads[param_name])\n",
    "    print('{} max relative error: {}'.format(param_name, rel_error(param_grad_num, grads[param_name])))"
   ]
  },
  {
   "cell_type": "markdown",
   "metadata": {},
   "source": [
    "### Overfit small dataset\n",
    "\n",
    "To check your CNN implementation, let's overfit a small dataset."
   ]
  },
  {
   "cell_type": "code",
   "execution_count": 4,
   "metadata": {},
   "outputs": [
    {
     "name": "stdout",
     "output_type": "stream",
     "text": [
      "(Iteration 1 / 20) loss: 2.331737\n",
      "(Epoch 0 / 10) train acc: 0.170000; val_acc: 0.119000\n",
      "(Iteration 2 / 20) loss: 4.302498\n",
      "(Epoch 1 / 10) train acc: 0.250000; val_acc: 0.122000\n",
      "(Iteration 3 / 20) loss: 2.655230\n",
      "(Iteration 4 / 20) loss: 1.778981\n",
      "(Epoch 2 / 10) train acc: 0.290000; val_acc: 0.120000\n",
      "(Iteration 5 / 20) loss: 2.064716\n",
      "(Iteration 6 / 20) loss: 2.106850\n",
      "(Epoch 3 / 10) train acc: 0.370000; val_acc: 0.170000\n",
      "(Iteration 7 / 20) loss: 2.697875\n",
      "(Iteration 8 / 20) loss: 2.119473\n",
      "(Epoch 4 / 10) train acc: 0.440000; val_acc: 0.143000\n",
      "(Iteration 9 / 20) loss: 2.114312\n",
      "(Iteration 10 / 20) loss: 1.632895\n",
      "(Epoch 5 / 10) train acc: 0.480000; val_acc: 0.162000\n",
      "(Iteration 11 / 20) loss: 1.281156\n",
      "(Iteration 12 / 20) loss: 1.400776\n",
      "(Epoch 6 / 10) train acc: 0.500000; val_acc: 0.188000\n",
      "(Iteration 13 / 20) loss: 1.438535\n",
      "(Iteration 14 / 20) loss: 1.386944\n",
      "(Epoch 7 / 10) train acc: 0.620000; val_acc: 0.211000\n",
      "(Iteration 15 / 20) loss: 0.835603\n",
      "(Iteration 16 / 20) loss: 0.705309\n",
      "(Epoch 8 / 10) train acc: 0.690000; val_acc: 0.234000\n",
      "(Iteration 17 / 20) loss: 0.745243\n",
      "(Iteration 18 / 20) loss: 1.055876\n",
      "(Epoch 9 / 10) train acc: 0.740000; val_acc: 0.206000\n",
      "(Iteration 19 / 20) loss: 0.667131\n",
      "(Iteration 20 / 20) loss: 0.654286\n",
      "(Epoch 10 / 10) train acc: 0.800000; val_acc: 0.180000\n"
     ]
    }
   ],
   "source": [
    "num_train = 100\n",
    "small_data = {\n",
    "  'X_train': data['X_train'][:num_train],\n",
    "  'y_train': data['y_train'][:num_train],\n",
    "  'X_val': data['X_val'],\n",
    "  'y_val': data['y_val'],\n",
    "}\n",
    "\n",
    "model = ThreeLayerConvNet(weight_scale=1e-2)\n",
    "\n",
    "solver = Solver(model, small_data,\n",
    "                num_epochs=10, batch_size=50,\n",
    "                update_rule='adam',\n",
    "                optim_config={\n",
    "                  'learning_rate': 1e-3,\n",
    "                },\n",
    "                verbose=True, print_every=1)\n",
    "solver.train()"
   ]
  },
  {
   "cell_type": "code",
   "execution_count": 5,
   "metadata": {},
   "outputs": [
    {
     "data": {
      "image/png": "[encoded data removed]",
      "text/plain": [
       "<matplotlib.figure.Figure at 0x10efcf438>"
      ]
     },
     "metadata": {},
     "output_type": "display_data"
    }
   ],
   "source": [
    "plt.subplot(2, 1, 1)\n",
    "plt.plot(solver.loss_history, 'o')\n",
    "plt.xlabel('iteration')\n",
    "plt.ylabel('loss')\n",
    "\n",
    "plt.subplot(2, 1, 2)\n",
    "plt.plot(solver.train_acc_history, '-o')\n",
    "plt.plot(solver.val_acc_history, '-o')\n",
    "plt.legend(['train', 'val'], loc='upper left')\n",
    "plt.xlabel('epoch')\n",
    "plt.ylabel('accuracy')\n",
    "plt.show()"
   ]
  },
  {
   "cell_type": "markdown",
   "metadata": {},
   "source": [
    "## Train the network\n",
    "\n",
    "Now we train the 3 layer CNN on CIFAR-10 and assess its accuracy."
   ]
  },
  {
   "cell_type": "code",
   "execution_count": 6,
   "metadata": {
    "scrolled": false
   },
   "outputs": [
    {
     "name": "stdout",
     "output_type": "stream",
     "text": [
      "(Iteration 1 / 980) loss: 2.304444\n",
      "(Epoch 0 / 1) train acc: 0.102000; val_acc: 0.105000\n",
      "(Iteration 21 / 980) loss: 2.267571\n",
      "(Iteration 41 / 980) loss: 1.675050\n",
      "(Iteration 61 / 980) loss: 2.058798\n",
      "(Iteration 81 / 980) loss: 1.752210\n",
      "(Iteration 101 / 980) loss: 1.697730\n",
      "(Iteration 121 / 980) loss: 1.719242\n",
      "(Iteration 141 / 980) loss: 1.699755\n",
      "(Iteration 161 / 980) loss: 1.512961\n",
      "(Iteration 181 / 980) loss: 1.625781\n",
      "(Iteration 201 / 980) loss: 1.487911\n",
      "(Iteration 221 / 980) loss: 1.822483\n",
      "(Iteration 241 / 980) loss: 1.719927\n",
      "(Iteration 261 / 980) loss: 1.568935\n",
      "(Iteration 281 / 980) loss: 1.930111\n",
      "(Iteration 301 / 980) loss: 1.647750\n",
      "(Iteration 321 / 980) loss: 1.744616\n",
      "(Iteration 341 / 980) loss: 1.495573\n",
      "(Iteration 361 / 980) loss: 1.840244\n",
      "(Iteration 381 / 980) loss: 1.569871\n",
      "(Iteration 401 / 980) loss: 1.756682\n",
      "(Iteration 421 / 980) loss: 1.918953\n",
      "(Iteration 441 / 980) loss: 1.786132\n",
      "(Iteration 461 / 980) loss: 1.714054\n",
      "(Iteration 481 / 980) loss: 1.595573\n",
      "(Iteration 501 / 980) loss: 1.278121\n",
      "(Iteration 521 / 980) loss: 1.594674\n",
      "(Iteration 541 / 980) loss: 1.764834\n",
      "(Iteration 561 / 980) loss: 1.434373\n",
      "(Iteration 581 / 980) loss: 1.528596\n",
      "(Iteration 601 / 980) loss: 1.434142\n",
      "(Iteration 621 / 980) loss: 1.722708\n",
      "(Iteration 641 / 980) loss: 1.497721\n",
      "(Iteration 661 / 980) loss: 1.220223\n",
      "(Iteration 681 / 980) loss: 1.448766\n",
      "(Iteration 701 / 980) loss: 1.301773\n",
      "(Iteration 721 / 980) loss: 1.570258\n",
      "(Iteration 741 / 980) loss: 1.429707\n",
      "(Iteration 761 / 980) loss: 1.481418\n",
      "(Iteration 781 / 980) loss: 1.665926\n",
      "(Iteration 801 / 980) loss: 1.617257\n",
      "(Iteration 821 / 980) loss: 1.701106\n",
      "(Iteration 841 / 980) loss: 1.438653\n",
      "(Iteration 861 / 980) loss: 1.536256\n",
      "(Iteration 881 / 980) loss: 1.385158\n",
      "(Iteration 901 / 980) loss: 1.697740\n",
      "(Iteration 921 / 980) loss: 1.665638\n",
      "(Iteration 941 / 980) loss: 1.164417\n",
      "(Iteration 961 / 980) loss: 1.644604\n",
      "(Epoch 1 / 1) train acc: 0.469000; val_acc: 0.474000\n"
     ]
    }
   ],
   "source": [
    "model = ThreeLayerConvNet(weight_scale=0.001, hidden_dim=500, reg=0.001)\n",
    "\n",
    "solver = Solver(model, data,\n",
    "                num_epochs=1, batch_size=50,\n",
    "                update_rule='adam',\n",
    "                optim_config={\n",
    "                  'learning_rate': 1e-3,\n",
    "                },\n",
    "                verbose=True, print_every=20)\n",
    "solver.train()"
   ]
  },
  {
   "cell_type": "markdown",
   "metadata": {},
   "source": [
    "# Get > 65% validation accuracy on CIFAR-10.\n",
    "\n",
    "In the last part of the assignment, we'll now ask you to train a CNN to get better than 65% validation accuracy on CIFAR-10.\n",
    "\n",
    "### Things you should try:\n",
    "- Filter size: Above we used 7x7; but VGGNet and onwards showed stacks of 3x3 filters are good.  \n",
    "- Number of filters: Above we used 32 filters. Do more or fewer do better?\n",
    "- Batch normalization: Try adding spatial batch normalization after convolution layers and vanilla batch normalization aafter affine layers. Do your networks train faster?\n",
    "- Network architecture: Can a deeper CNN do better?  Consider these architectures:\n",
    "    - [conv-relu-pool]xN - conv - relu - [affine]xM - [softmax or SVM]\n",
    "    - [conv-relu-pool]XN - [affine]XM - [softmax or SVM]\n",
    "    - [conv-relu-conv-relu-pool]xN - [affine]xM - [softmax or SVM]\n",
    "\n",
    "### Tips for training\n",
    "For each network architecture that you try, you should tune the learning rate and regularization strength. When doing this there are a couple important things to keep in mind:\n",
    "\n",
    "- If the parameters are working well, you should see improvement within a few hundred iterations\n",
    "- Remember the coarse-to-fine approach for hyperparameter tuning: start by testing a large range of hyperparameters for just a few training iterations to find the combinations of parameters that are working at all.\n",
    "- Once you have found some sets of parameters that seem to work, search more finely around these parameters. You may need to train for more epochs."
   ]
  },
  {
   "cell_type": "code",
   "execution_count": 9,
   "metadata": {
    "scrolled": false
   },
   "outputs": [
    {
     "name": "stdout",
     "output_type": "stream",
     "text": [
      "(Iteration 1 / 1470) loss: 4.100736\n",
      "(Epoch 0 / 6) train acc: 0.166000; val_acc: 0.152000\n",
      "(Iteration 51 / 1470) loss: 2.173937\n",
      "(Iteration 101 / 1470) loss: 1.951170\n",
      "(Iteration 151 / 1470) loss: 1.820874\n",
      "(Iteration 201 / 1470) loss: 1.719190\n",
      "(Epoch 1 / 6) train acc: 0.545000; val_acc: 0.551000\n",
      "(Iteration 251 / 1470) loss: 1.583868\n",
      "(Iteration 301 / 1470) loss: 1.507916\n",
      "(Iteration 351 / 1470) loss: 1.462051\n",
      "(Iteration 401 / 1470) loss: 1.481972\n",
      "(Iteration 451 / 1470) loss: 1.531212\n",
      "(Epoch 2 / 6) train acc: 0.651000; val_acc: 0.616000\n",
      "(Iteration 501 / 1470) loss: 1.426533\n",
      "(Iteration 551 / 1470) loss: 1.334327\n",
      "(Iteration 601 / 1470) loss: 1.232065\n",
      "(Iteration 651 / 1470) loss: 1.270214\n",
      "(Iteration 701 / 1470) loss: 1.132881\n",
      "(Epoch 3 / 6) train acc: 0.724000; val_acc: 0.646000\n",
      "(Iteration 751 / 1470) loss: 1.270661\n",
      "(Iteration 801 / 1470) loss: 1.161678\n",
      "(Iteration 851 / 1470) loss: 1.131692\n",
      "(Iteration 901 / 1470) loss: 1.218272\n",
      "(Iteration 951 / 1470) loss: 1.151939\n",
      "(Epoch 4 / 6) train acc: 0.762000; val_acc: 0.663000\n",
      "(Iteration 1001 / 1470) loss: 0.996374\n",
      "(Iteration 1051 / 1470) loss: 1.015330\n",
      "(Iteration 1101 / 1470) loss: 0.980860\n",
      "(Iteration 1151 / 1470) loss: 1.014663\n",
      "(Iteration 1201 / 1470) loss: 1.004682\n",
      "(Epoch 5 / 6) train acc: 0.796000; val_acc: 0.657000\n",
      "(Iteration 1251 / 1470) loss: 0.879040\n",
      "(Iteration 1301 / 1470) loss: 0.789427\n",
      "(Iteration 1351 / 1470) loss: 0.852947\n",
      "(Iteration 1401 / 1470) loss: 0.950615\n",
      "(Iteration 1451 / 1470) loss: 0.968008\n",
      "(Epoch 6 / 6) train acc: 0.824000; val_acc: 0.688000\n"
     ]
    },
    {
     "data": {
      "image/png": "[encoded data removed]",
      "text/plain": [
       "<matplotlib.figure.Figure at 0x11205c4e0>"
      ]
     },
     "metadata": {},
     "output_type": "display_data"
    }
   ],
   "source": [
    "# ================================================================ #\n",
    "# YOUR CODE HERE:\n",
    "#   Implement a CNN to achieve greater than 65% validation accuracy\n",
    "#   on CIFAR-10.\n",
    "# ================================================================ #\n",
    "np.random.seed(30)\n",
    "model = ThreeLayerConvNet(weight_scale=1.6e-2, hidden_dim=500, reg=0.001, filter_size=3, num_filters=32)\n",
    "\n",
    "solver = Solver(model, data,\n",
    "                num_epochs=6, batch_size=200,\n",
    "                update_rule='adam',\n",
    "                optim_config={\n",
    "                  'learning_rate': 2e-4,\n",
    "                },\n",
    "                lr_decay=0.9,\n",
    "                verbose=True, print_every=50)\n",
    "solver.train()\n",
    "\n",
    "plt.figure()\n",
    "plt.plot(solver.val_acc_history, '-o')\n",
    "plt.title('Validation accuracy')\n",
    "plt.xlabel('Epoch')\n",
    "plt.show()\n",
    "\n",
    "\n",
    "# ================================================================ #\n",
    "# END YOUR CODE HERE\n",
    "# ================================================================ #\n"
   ]
  }
 ],
 "metadata": {
  "kernelspec": {
   "display_name": "Python 3",
   "language": "python",
   "name": "python3"
  },
  "language_info": {
   "codemirror_mode": {
    "name": "ipython",
    "version": 3
   },
   "file_extension": ".py",
   "mimetype": "text/x-python",
   "name": "python",
   "nbconvert_exporter": "python",
   "pygments_lexer": "ipython3",
   "version": "3.6.3"
  }
 },
 "nbformat": 4,
 "nbformat_minor": 2
}
